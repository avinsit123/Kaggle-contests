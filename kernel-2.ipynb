{
  "cells": [
    {
      "metadata": {
        "_uuid": "8f2839f25d086af736a60e9eeb907d3b93b6e0e5",
        "_cell_guid": "b1076dfc-b9ad-4769-8c92-a6c4dae69d19",
        "trusted": true
      },
      "cell_type": "code",
      "source": "# This Python 3 environment comes with many helpful analytics libraries installed\n# It is defined by the kaggle/python docker image: https://github.com/kaggle/docker-python\n# For example, here's several helpful packages to load in \n\nimport numpy as np # linear algebra\nimport pandas as pd # data processing, CSV file I/O (e.g. pd.read_csv)\n\n# Input data files are available in the \"../input/\" directory.\n# For example, running this (by clicking run or pressing Shift+Enter) will list the files in the input directory\nfrom nltk.tokenize import TweetTokenizer\nfrom nltk import FreqDist\nfrom keras.preprocessing.text import Tokenizer\nfrom sklearn import feature_extraction\nimport os\nprint(os.listdir(\"../input\"))\nimport keras\n\n\n# Any results you write to the current directory are saved as output.",
      "execution_count": 1,
      "outputs": [
        {
          "output_type": "stream",
          "text": "Using TensorFlow backend.\n",
          "name": "stderr"
        },
        {
          "output_type": "stream",
          "text": "['train.tsv', 'test.tsv', 'sampleSubmission.csv']\n",
          "name": "stdout"
        }
      ]
    },
    {
      "metadata": {
        "_cell_guid": "79c7e3d0-c299-4dcb-8224-4455121ee9b0",
        "_uuid": "d629ff2d2480ee46fbb7e2d37f6b5fab8052498a",
        "trusted": true
      },
      "cell_type": "code",
      "source": "train=pd.read_csv(\"../input/train.tsv\",sep=\"\\t\")\ntest=pd.read_csv(\"../input/test.tsv\",sep=\"\\t\")\ntrain.columns",
      "execution_count": 2,
      "outputs": [
        {
          "output_type": "execute_result",
          "execution_count": 2,
          "data": {
            "text/plain": "Index(['PhraseId', 'SentenceId', 'Phrase', 'Sentiment'], dtype='object')"
          },
          "metadata": {}
        }
      ]
    },
    {
      "metadata": {
        "trusted": true,
        "_uuid": "d12a0c41a9317e80fdfb7c7b27ed3a9cb8525afa"
      },
      "cell_type": "code",
      "source": "from nltk.tokenize import word_tokenize\nfrom nltk import FreqDist\nfrom nltk.stem import SnowballStemmer,WordNetLemmatizer\nstemmer=SnowballStemmer('english')\nlemma=WordNetLemmatizer()\n",
      "execution_count": 3,
      "outputs": []
    },
    {
      "metadata": {
        "trusted": true,
        "_uuid": "81139867af3b124e5e008266c2f2e69989b7fd3a"
      },
      "cell_type": "code",
      "source": "def lemmize(column):\n    leem=[]\n    for sentence in column:\n        lassos= [lemma.lemmatize(word) for word in word_tokenize(sentence)]\n        lassos=' '.join(lassos)\n        leem.append(lassos)\n    return leem\n\n",
      "execution_count": 4,
      "outputs": []
    },
    {
      "metadata": {
        "trusted": true,
        "_uuid": "522d54c84f2a8f502cf802e92632514949e0b71e"
      },
      "cell_type": "code",
      "source": "train['clean_review']=lemmize(train[\"Phrase\"])\ntrain.head(10)",
      "execution_count": 5,
      "outputs": [
        {
          "output_type": "execute_result",
          "execution_count": 5,
          "data": {
            "text/plain": "   PhraseId                        ...                                                               clean_review\n0         1                        ...                          A series of escapade demonstrating the adage t...\n1         2                        ...                          A series of escapade demonstrating the adage t...\n2         3                        ...                                                                   A series\n3         4                        ...                                                                          A\n4         5                        ...                                                                     series\n5         6                        ...                          of escapade demonstrating the adage that what ...\n6         7                        ...                                                                         of\n7         8                        ...                          escapade demonstrating the adage that what is ...\n8         9                        ...                                                                   escapade\n9        10                        ...                          demonstrating the adage that what is good for ...\n\n[10 rows x 5 columns]",
            "text/html": "<div>\n<style scoped>\n    .dataframe tbody tr th:only-of-type {\n        vertical-align: middle;\n    }\n\n    .dataframe tbody tr th {\n        vertical-align: top;\n    }\n\n    .dataframe thead th {\n        text-align: right;\n    }\n</style>\n<table border=\"1\" class=\"dataframe\">\n  <thead>\n    <tr style=\"text-align: right;\">\n      <th></th>\n      <th>PhraseId</th>\n      <th>SentenceId</th>\n      <th>Phrase</th>\n      <th>Sentiment</th>\n      <th>clean_review</th>\n    </tr>\n  </thead>\n  <tbody>\n    <tr>\n      <th>0</th>\n      <td>1</td>\n      <td>1</td>\n      <td>A series of escapades demonstrating the adage ...</td>\n      <td>1</td>\n      <td>A series of escapade demonstrating the adage t...</td>\n    </tr>\n    <tr>\n      <th>1</th>\n      <td>2</td>\n      <td>1</td>\n      <td>A series of escapades demonstrating the adage ...</td>\n      <td>2</td>\n      <td>A series of escapade demonstrating the adage t...</td>\n    </tr>\n    <tr>\n      <th>2</th>\n      <td>3</td>\n      <td>1</td>\n      <td>A series</td>\n      <td>2</td>\n      <td>A series</td>\n    </tr>\n    <tr>\n      <th>3</th>\n      <td>4</td>\n      <td>1</td>\n      <td>A</td>\n      <td>2</td>\n      <td>A</td>\n    </tr>\n    <tr>\n      <th>4</th>\n      <td>5</td>\n      <td>1</td>\n      <td>series</td>\n      <td>2</td>\n      <td>series</td>\n    </tr>\n    <tr>\n      <th>5</th>\n      <td>6</td>\n      <td>1</td>\n      <td>of escapades demonstrating the adage that what...</td>\n      <td>2</td>\n      <td>of escapade demonstrating the adage that what ...</td>\n    </tr>\n    <tr>\n      <th>6</th>\n      <td>7</td>\n      <td>1</td>\n      <td>of</td>\n      <td>2</td>\n      <td>of</td>\n    </tr>\n    <tr>\n      <th>7</th>\n      <td>8</td>\n      <td>1</td>\n      <td>escapades demonstrating the adage that what is...</td>\n      <td>2</td>\n      <td>escapade demonstrating the adage that what is ...</td>\n    </tr>\n    <tr>\n      <th>8</th>\n      <td>9</td>\n      <td>1</td>\n      <td>escapades</td>\n      <td>2</td>\n      <td>escapade</td>\n    </tr>\n    <tr>\n      <th>9</th>\n      <td>10</td>\n      <td>1</td>\n      <td>demonstrating the adage that what is good for ...</td>\n      <td>2</td>\n      <td>demonstrating the adage that what is good for ...</td>\n    </tr>\n  </tbody>\n</table>\n</div>"
          },
          "metadata": {}
        }
      ]
    },
    {
      "metadata": {
        "trusted": true,
        "_uuid": "2414ecd171245799b7f15065a59cbde036b381db"
      },
      "cell_type": "code",
      "source": "X=train.clean_review.values\ny=train.Sentiment.values\ny=keras.utils.to_categorical(y,num_classes=5)\nfrom sklearn.model_selection import train_test_split\n(X_train,X_val,y_train,y_val)=train_test_split(X,y,test_size=0.3,random_state=50)",
      "execution_count": 6,
      "outputs": []
    },
    {
      "metadata": {
        "trusted": true,
        "_uuid": "f7c6a6d104d48ad35ba1fba12e07f7dae6dce3ca"
      },
      "cell_type": "code",
      "source": "def distinct_words(X):\n    totsent=\"\"\n    for sentence in X:\n        totsent+=sentence\n    alword=word_tokenize(totsent)\n    return len(FreqDist(alword)) ",
      "execution_count": 7,
      "outputs": []
    },
    {
      "metadata": {
        "trusted": true,
        "_uuid": "ecd233b6cb2953f834d735d04afa9338b8d3298f"
      },
      "cell_type": "code",
      "source": "def MAX_LENGTH(X):\n    for sent in X:\n      r_len=[]\n      gre=word_tokenize(sent)\n      r_len.append(len(gre))\n    max_sent=(np.max(r_len))\n    return max_sent",
      "execution_count": 8,
      "outputs": []
    },
    {
      "metadata": {
        "trusted": true,
        "_uuid": "d09c9cf3a6e35ce7fc79a7a73e884af0ae4d0d77"
      },
      "cell_type": "code",
      "source": "dXt=distinct_words(X_train)\ndXval=distinct_words(X_val)\n",
      "execution_count": 9,
      "outputs": []
    },
    {
      "metadata": {
        "trusted": true,
        "_uuid": "e5640ab352dade5a1f79539e708f8da30b1f3d86"
      },
      "cell_type": "code",
      "source": "dXt",
      "execution_count": 10,
      "outputs": [
        {
          "output_type": "execute_result",
          "execution_count": 10,
          "data": {
            "text/plain": "86865"
          },
          "metadata": {}
        }
      ]
    },
    {
      "metadata": {
        "trusted": true,
        "_uuid": "cbe9e497b2116526aa67f895007a30e69ede514c",
        "scrolled": true
      },
      "cell_type": "code",
      "source": "tokenize=Tokenizer(num_words=distinct_words(X_train))\ntokenize.fit_on_texts(list(X_train))\nX_train=tokenize.texts_to_sequences(X_train)\nX_val=tokenize.texts_to_sequences(X_val)\n",
      "execution_count": 11,
      "outputs": []
    },
    {
      "metadata": {
        "trusted": true,
        "_uuid": "2a857feaa39f0d1b98dde460eb9d82d51d44d294"
      },
      "cell_type": "code",
      "source": "from keras.preprocessing import sequence,text\nX_train=sequence.pad_sequences(X_train,maxlen=53)\nX_val=sequence.pad_sequences(X_val,maxlen=53)\nX_train",
      "execution_count": 12,
      "outputs": [
        {
          "output_type": "execute_result",
          "execution_count": 12,
          "data": {
            "text/plain": "array([[    0,     0,     0, ...,     5,  1144,    59],\n       [    0,     0,     0, ...,     0,     0,  4489],\n       [    0,     0,     0, ...,    74,  1259,   163],\n       ...,\n       [    0,     0,     0, ...,    91, 11911,    62],\n       [    0,     0,     0, ...,   109, 11886,    89],\n       [    0,     0,     0, ...,     4, 10689,   275]], dtype=int32)"
          },
          "metadata": {}
        }
      ]
    },
    {
      "metadata": {
        "trusted": true,
        "_uuid": "d9aba9d9079d10062aeb68e1ed18ae40dbc29cc6"
      },
      "cell_type": "code",
      "source": "from keras.models import Sequential\nfrom keras.layers import LSTM,Embedding,Dense\nfrom keras.optimizers import Adam\nmodel1=Sequential()\nmodel1.add(Embedding(dXt,100,mask_zero=True))\nmodel1.add(LSTM(64,dropout=0.4, recurrent_dropout=0.4,return_sequences=True))\nmodel1.add(LSTM(32,dropout=0.5, recurrent_dropout=0.5,return_sequences=False))\nmodel1.add(Dense(5,activation='softmax'))\nmodel1.compile(loss='categorical_crossentropy',optimizer=Adam(lr=0.001),metrics=['accuracy'])\nmodel1.summary()",
      "execution_count": 13,
      "outputs": [
        {
          "output_type": "stream",
          "text": "_________________________________________________________________\nLayer (type)                 Output Shape              Param #   \n=================================================================\nembedding_1 (Embedding)      (None, None, 100)         8686500   \n_________________________________________________________________\nlstm_1 (LSTM)                (None, None, 64)          42240     \n_________________________________________________________________\nlstm_2 (LSTM)                (None, 32)                12416     \n_________________________________________________________________\ndense_1 (Dense)              (None, 5)                 165       \n=================================================================\nTotal params: 8,741,321\nTrainable params: 8,741,321\nNon-trainable params: 0\n_________________________________________________________________\n",
          "name": "stdout"
        }
      ]
    },
    {
      "metadata": {
        "trusted": true,
        "_uuid": "23af0171c73cbf740070712761ad908e7e6e1152"
      },
      "cell_type": "code",
      "source": "history1=model1.fit(X_train, y_train, validation_data=(X_val, y_val),epochs=5, batch_size=128, verbose=1)",
      "execution_count": 14,
      "outputs": [
        {
          "output_type": "stream",
          "text": "Train on 109242 samples, validate on 46818 samples\nEpoch 1/5\n109242/109242 [==============================] - 300s 3ms/step - loss: 1.1309 - acc: 0.5572 - val_loss: 0.9089 - val_acc: 0.6341\nEpoch 2/5\n109242/109242 [==============================] - 297s 3ms/step - loss: 0.8470 - acc: 0.6539 - val_loss: 0.8563 - val_acc: 0.6499\nEpoch 3/5\n109242/109242 [==============================] - 297s 3ms/step - loss: 0.7763 - acc: 0.6793 - val_loss: 0.8459 - val_acc: 0.6561\nEpoch 4/5\n109242/109242 [==============================] - 293s 3ms/step - loss: 0.7366 - acc: 0.6961 - val_loss: 0.8468 - val_acc: 0.6551\nEpoch 5/5\n109242/109242 [==============================] - 296s 3ms/step - loss: 0.7057 - acc: 0.7077 - val_loss: 0.8490 - val_acc: 0.6582\n",
          "name": "stdout"
        }
      ]
    },
    {
      "metadata": {
        "trusted": true,
        "_uuid": "954d269c7af4037493bad95e9a01555969355545"
      },
      "cell_type": "code",
      "source": "import matplotlib.pyplot as plt \ndef plot(history):\n    plt.plot(history.history['acc'])\n    plt.plot(history.history['val_acc'])\n    plt.title('model accuracy')\n    plt.ylabel('accuracy')\n    plt.xlabel('epoch')\n    plt.legend(['train', 'test'], loc='upper left')\n    plt.show()\nplot(history1)",
      "execution_count": 16,
      "outputs": [
        {
          "output_type": "display_data",
          "data": {
            "text/plain": "<Figure size 432x288 with 1 Axes>",
            "image/png": "[encoded data removed]"
          },
          "metadata": {
            "needs_background": "light"
          }
        }
      ]
    },
    {
      "metadata": {
        "trusted": true,
        "_uuid": "923b2ecd5247ab2b5e48ce6b01f1f8658e02793d"
      },
      "cell_type": "code",
      "source": "X_test=pd.read_csv(\"../input/test.tsv\",sep='\\t')\nX_test['clean_review']=lemmize(X_test[\"Phrase\"])\nX_test.head(10)",
      "execution_count": 17,
      "outputs": [
        {
          "output_type": "execute_result",
          "execution_count": 17,
          "data": {
            "text/plain": "   PhraseId                        ...                                                               clean_review\n0    156061                        ...                          An intermittently pleasing but mostly routine ...\n1    156062                        ...                          An intermittently pleasing but mostly routine ...\n2    156063                        ...                                                                         An\n3    156064                        ...                          intermittently pleasing but mostly routine effort\n4    156065                        ...                                 intermittently pleasing but mostly routine\n5    156066                        ...                                                intermittently pleasing but\n6    156067                        ...                                                    intermittently pleasing\n7    156068                        ...                                                             intermittently\n8    156069                        ...                                                                   pleasing\n9    156070                        ...                                                                        but\n\n[10 rows x 4 columns]",
            "text/html": "<div>\n<style scoped>\n    .dataframe tbody tr th:only-of-type {\n        vertical-align: middle;\n    }\n\n    .dataframe tbody tr th {\n        vertical-align: top;\n    }\n\n    .dataframe thead th {\n        text-align: right;\n    }\n</style>\n<table border=\"1\" class=\"dataframe\">\n  <thead>\n    <tr style=\"text-align: right;\">\n      <th></th>\n      <th>PhraseId</th>\n      <th>SentenceId</th>\n      <th>Phrase</th>\n      <th>clean_review</th>\n    </tr>\n  </thead>\n  <tbody>\n    <tr>\n      <th>0</th>\n      <td>156061</td>\n      <td>8545</td>\n      <td>An intermittently pleasing but mostly routine ...</td>\n      <td>An intermittently pleasing but mostly routine ...</td>\n    </tr>\n    <tr>\n      <th>1</th>\n      <td>156062</td>\n      <td>8545</td>\n      <td>An intermittently pleasing but mostly routine ...</td>\n      <td>An intermittently pleasing but mostly routine ...</td>\n    </tr>\n    <tr>\n      <th>2</th>\n      <td>156063</td>\n      <td>8545</td>\n      <td>An</td>\n      <td>An</td>\n    </tr>\n    <tr>\n      <th>3</th>\n      <td>156064</td>\n      <td>8545</td>\n      <td>intermittently pleasing but mostly routine effort</td>\n      <td>intermittently pleasing but mostly routine effort</td>\n    </tr>\n    <tr>\n      <th>4</th>\n      <td>156065</td>\n      <td>8545</td>\n      <td>intermittently pleasing but mostly routine</td>\n      <td>intermittently pleasing but mostly routine</td>\n    </tr>\n    <tr>\n      <th>5</th>\n      <td>156066</td>\n      <td>8545</td>\n      <td>intermittently pleasing but</td>\n      <td>intermittently pleasing but</td>\n    </tr>\n    <tr>\n      <th>6</th>\n      <td>156067</td>\n      <td>8545</td>\n      <td>intermittently pleasing</td>\n      <td>intermittently pleasing</td>\n    </tr>\n    <tr>\n      <th>7</th>\n      <td>156068</td>\n      <td>8545</td>\n      <td>intermittently</td>\n      <td>intermittently</td>\n    </tr>\n    <tr>\n      <th>8</th>\n      <td>156069</td>\n      <td>8545</td>\n      <td>pleasing</td>\n      <td>pleasing</td>\n    </tr>\n    <tr>\n      <th>9</th>\n      <td>156070</td>\n      <td>8545</td>\n      <td>but</td>\n      <td>but</td>\n    </tr>\n  </tbody>\n</table>\n</div>"
          },
          "metadata": {}
        }
      ]
    },
    {
      "metadata": {
        "trusted": true,
        "_uuid": "d76233a49123de32cb3c6737d9c2d1dde843b9c0"
      },
      "cell_type": "code",
      "source": "X_t=X_test['clean_review']\ndt=distinct_words(X_t)\nprint",
      "execution_count": 18,
      "outputs": [
        {
          "output_type": "execute_result",
          "execution_count": 18,
          "data": {
            "text/plain": "<function print>"
          },
          "metadata": {}
        }
      ]
    },
    {
      "metadata": {
        "trusted": true,
        "_uuid": "7be3aca445ff38d6c37fa4dcc46286e397ca12a3"
      },
      "cell_type": "code",
      "source": "X_t",
      "execution_count": null,
      "outputs": []
    },
    {
      "metadata": {
        "trusted": true,
        "_uuid": "1c56ba1f9d0b8193393f31a1df3c025aa243b77a"
      },
      "cell_type": "code",
      "source": "X_t=tokenize.texts_to_sequences(X_t)\nX_t=sequence.pad_sequences(X_t,maxlen=53)\nX_t",
      "execution_count": 19,
      "outputs": [
        {
          "output_type": "execute_result",
          "execution_count": 19,
          "data": {
            "text/plain": "array([[   0,    0,    0, ...,  623,  909,  310],\n       [   0,    0,    0, ...,  623,  909,  310],\n       [   0,    0,    0, ...,    0,    0,   15],\n       ...,\n       [   0,    0,    0, ...,    2,  131, 7235],\n       [   0,    0,    0, ...,    2,  131, 7235],\n       [   0,    0,    0, ...,    0,  370, 1667]], dtype=int32)"
          },
          "metadata": {}
        }
      ]
    },
    {
      "metadata": {
        "trusted": true,
        "_uuid": "516ad5e7cef3a79c8acdd9673b88465ab04e0a74"
      },
      "cell_type": "code",
      "source": "prediction=model1.predict_classes(X_t,verbose=1)",
      "execution_count": 20,
      "outputs": [
        {
          "output_type": "stream",
          "text": "66292/66292 [==============================] - 164s 2ms/step\n",
          "name": "stdout"
        }
      ]
    },
    {
      "metadata": {
        "trusted": true,
        "_uuid": "4a76ea98fe99834f34d9d42816caed1c321c299f"
      },
      "cell_type": "code",
      "source": "sub=pd.read_csv('../input/sampleSubmission.csv')\nsub.Sentiment=prediction\nsub",
      "execution_count": 21,
      "outputs": [
        {
          "output_type": "execute_result",
          "execution_count": 21,
          "data": {
            "text/plain": "       PhraseId  Sentiment\n0        156061          2\n1        156062          2\n2        156063          2\n3        156064          2\n4        156065          2\n5        156066          3\n6        156067          3\n7        156068          2\n8        156069          3\n9        156070          2\n10       156071          2\n11       156072          2\n12       156073          2\n13       156074          2\n14       156075          2\n15       156076          3\n16       156077          3\n17       156078          2\n18       156079          2\n19       156080          2\n20       156081          2\n21       156082          2\n22       156083          2\n23       156084          2\n24       156085          2\n25       156086          2\n26       156087          2\n27       156088          2\n28       156089          3\n29       156090          2\n...         ...        ...\n66262    222323          3\n66263    222324          2\n66264    222325          3\n66265    222326          3\n66266    222327          3\n66267    222328          2\n66268    222329          3\n66269    222330          3\n66270    222331          2\n66271    222332          2\n66272    222333          2\n66273    222334          2\n66274    222335          2\n66275    222336          2\n66276    222337          2\n66277    222338          2\n66278    222339          2\n66279    222340          2\n66280    222341          2\n66281    222342          1\n66282    222343          1\n66283    222344          2\n66284    222345          2\n66285    222346          2\n66286    222347          2\n66287    222348          1\n66288    222349          1\n66289    222350          2\n66290    222351          2\n66291    222352          1\n\n[66292 rows x 2 columns]",
            "text/html": "<div>\n<style scoped>\n    .dataframe tbody tr th:only-of-type {\n        vertical-align: middle;\n    }\n\n    .dataframe tbody tr th {\n        vertical-align: top;\n    }\n\n    .dataframe thead th {\n        text-align: right;\n    }\n</style>\n<table border=\"1\" class=\"dataframe\">\n  <thead>\n    <tr style=\"text-align: right;\">\n      <th></th>\n      <th>PhraseId</th>\n      <th>Sentiment</th>\n    </tr>\n  </thead>\n  <tbody>\n    <tr>\n      <th>0</th>\n      <td>156061</td>\n      <td>2</td>\n    </tr>\n    <tr>\n      <th>1</th>\n      <td>156062</td>\n      <td>2</td>\n    </tr>\n    <tr>\n      <th>2</th>\n      <td>156063</td>\n      <td>2</td>\n    </tr>\n    <tr>\n      <th>3</th>\n      <td>156064</td>\n      <td>2</td>\n    </tr>\n    <tr>\n      <th>4</th>\n      <td>156065</td>\n      <td>2</td>\n    </tr>\n    <tr>\n      <th>5</th>\n      <td>156066</td>\n      <td>3</td>\n    </tr>\n    <tr>\n      <th>6</th>\n      <td>156067</td>\n      <td>3</td>\n    </tr>\n    <tr>\n      <th>7</th>\n      <td>156068</td>\n      <td>2</td>\n    </tr>\n    <tr>\n      <th>8</th>\n      <td>156069</td>\n      <td>3</td>\n    </tr>\n    <tr>\n      <th>9</th>\n      <td>156070</td>\n      <td>2</td>\n    </tr>\n    <tr>\n      <th>10</th>\n      <td>156071</td>\n      <td>2</td>\n    </tr>\n    <tr>\n      <th>11</th>\n      <td>156072</td>\n      <td>2</td>\n    </tr>\n    <tr>\n      <th>12</th>\n      <td>156073</td>\n      <td>2</td>\n    </tr>\n    <tr>\n      <th>13</th>\n      <td>156074</td>\n      <td>2</td>\n    </tr>\n    <tr>\n      <th>14</th>\n      <td>156075</td>\n      <td>2</td>\n    </tr>\n    <tr>\n      <th>15</th>\n      <td>156076</td>\n      <td>3</td>\n    </tr>\n    <tr>\n      <th>16</th>\n      <td>156077</td>\n      <td>3</td>\n    </tr>\n    <tr>\n      <th>17</th>\n      <td>156078</td>\n      <td>2</td>\n    </tr>\n    <tr>\n      <th>18</th>\n      <td>156079</td>\n      <td>2</td>\n    </tr>\n    <tr>\n      <th>19</th>\n      <td>156080</td>\n      <td>2</td>\n    </tr>\n    <tr>\n      <th>20</th>\n      <td>156081</td>\n      <td>2</td>\n    </tr>\n    <tr>\n      <th>21</th>\n      <td>156082</td>\n      <td>2</td>\n    </tr>\n    <tr>\n      <th>22</th>\n      <td>156083</td>\n      <td>2</td>\n    </tr>\n    <tr>\n      <th>23</th>\n      <td>156084</td>\n      <td>2</td>\n    </tr>\n    <tr>\n      <th>24</th>\n      <td>156085</td>\n      <td>2</td>\n    </tr>\n    <tr>\n      <th>25</th>\n      <td>156086</td>\n      <td>2</td>\n    </tr>\n    <tr>\n      <th>26</th>\n      <td>156087</td>\n      <td>2</td>\n    </tr>\n    <tr>\n      <th>27</th>\n      <td>156088</td>\n      <td>2</td>\n    </tr>\n    <tr>\n      <th>28</th>\n      <td>156089</td>\n      <td>3</td>\n    </tr>\n    <tr>\n      <th>29</th>\n      <td>156090</td>\n      <td>2</td>\n    </tr>\n    <tr>\n      <th>...</th>\n      <td>...</td>\n      <td>...</td>\n    </tr>\n    <tr>\n      <th>66262</th>\n      <td>222323</td>\n      <td>3</td>\n    </tr>\n    <tr>\n      <th>66263</th>\n      <td>222324</td>\n      <td>2</td>\n    </tr>\n    <tr>\n      <th>66264</th>\n      <td>222325</td>\n      <td>3</td>\n    </tr>\n    <tr>\n      <th>66265</th>\n      <td>222326</td>\n      <td>3</td>\n    </tr>\n    <tr>\n      <th>66266</th>\n      <td>222327</td>\n      <td>3</td>\n    </tr>\n    <tr>\n      <th>66267</th>\n      <td>222328</td>\n      <td>2</td>\n    </tr>\n    <tr>\n      <th>66268</th>\n      <td>222329</td>\n      <td>3</td>\n    </tr>\n    <tr>\n      <th>66269</th>\n      <td>222330</td>\n      <td>3</td>\n    </tr>\n    <tr>\n      <th>66270</th>\n      <td>222331</td>\n      <td>2</td>\n    </tr>\n    <tr>\n      <th>66271</th>\n      <td>222332</td>\n      <td>2</td>\n    </tr>\n    <tr>\n      <th>66272</th>\n      <td>222333</td>\n      <td>2</td>\n    </tr>\n    <tr>\n      <th>66273</th>\n      <td>222334</td>\n      <td>2</td>\n    </tr>\n    <tr>\n      <th>66274</th>\n      <td>222335</td>\n      <td>2</td>\n    </tr>\n    <tr>\n      <th>66275</th>\n      <td>222336</td>\n      <td>2</td>\n    </tr>\n    <tr>\n      <th>66276</th>\n      <td>222337</td>\n      <td>2</td>\n    </tr>\n    <tr>\n      <th>66277</th>\n      <td>222338</td>\n      <td>2</td>\n    </tr>\n    <tr>\n      <th>66278</th>\n      <td>222339</td>\n      <td>2</td>\n    </tr>\n    <tr>\n      <th>66279</th>\n      <td>222340</td>\n      <td>2</td>\n    </tr>\n    <tr>\n      <th>66280</th>\n      <td>222341</td>\n      <td>2</td>\n    </tr>\n    <tr>\n      <th>66281</th>\n      <td>222342</td>\n      <td>1</td>\n    </tr>\n    <tr>\n      <th>66282</th>\n      <td>222343</td>\n      <td>1</td>\n    </tr>\n    <tr>\n      <th>66283</th>\n      <td>222344</td>\n      <td>2</td>\n    </tr>\n    <tr>\n      <th>66284</th>\n      <td>222345</td>\n      <td>2</td>\n    </tr>\n    <tr>\n      <th>66285</th>\n      <td>222346</td>\n      <td>2</td>\n    </tr>\n    <tr>\n      <th>66286</th>\n      <td>222347</td>\n      <td>2</td>\n    </tr>\n    <tr>\n      <th>66287</th>\n      <td>222348</td>\n      <td>1</td>\n    </tr>\n    <tr>\n      <th>66288</th>\n      <td>222349</td>\n      <td>1</td>\n    </tr>\n    <tr>\n      <th>66289</th>\n      <td>222350</td>\n      <td>2</td>\n    </tr>\n    <tr>\n      <th>66290</th>\n      <td>222351</td>\n      <td>2</td>\n    </tr>\n    <tr>\n      <th>66291</th>\n      <td>222352</td>\n      <td>1</td>\n    </tr>\n  </tbody>\n</table>\n<p>66292 rows × 2 columns</p>\n</div>"
          },
          "metadata": {}
        }
      ]
    },
    {
      "metadata": {
        "trusted": true,
        "_uuid": "203c57656951e56545950603a34e42d29b975ff9"
      },
      "cell_type": "code",
      "source": "sub.to_csv('lu.csv',index=False)\nsub.head(5)",
      "execution_count": null,
      "outputs": []
    }
  ],
  "metadata": {
    "kernelspec": {
      "display_name": "Python 3",
      "language": "python",
      "name": "python3"
    },
    "language_info": {
      "name": "python",
      "version": "3.6.6",
      "mimetype": "text/x-python",
      "codemirror_mode": {
        "name": "ipython",
        "version": 3
      },
      "pygments_lexer": "ipython3",
      "nbconvert_exporter": "python",
      "file_extension": ".py"
    }
  },
  "nbformat": 4,
  "nbformat_minor": 1
}